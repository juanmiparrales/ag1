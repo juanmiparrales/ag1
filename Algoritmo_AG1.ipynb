{
  "nbformat": 4,
  "nbformat_minor": 0,
  "metadata": {
    "colab": {
      "provenance": [],
      "authorship_tag": "ABX9TyNNHzoZfYxhXYR6uYkiKa/l",
      "include_colab_link": true
    },
    "kernelspec": {
      "name": "python3",
      "display_name": "Python 3"
    },
    "language_info": {
      "name": "python"
    }
  },
  "cells": [
    {
      "cell_type": "markdown",
      "metadata": {
        "id": "view-in-github",
        "colab_type": "text"
      },
      "source": [
        "<a href=\"https://colab.research.google.com/github/juanmiparrales/ag1/blob/main/Algoritmo_AG1.ipynb\" target=\"_parent\"><img src=\"https://colab.research.google.com/assets/colab-badge.svg\" alt=\"Open In Colab\"/></a>"
      ]
    },
    {
      "cell_type": "markdown",
      "source": [
        "Nombre: Juan Miguel Parrales Cáceres\n",
        "https://colab.research.google.com/drive/1DE23EkgrFjH3ilIbmA08GJDRsYaM5TPs?usp=sharing"
      ],
      "metadata": {
        "id": "fFRBxoUot678"
      }
    },
    {
      "cell_type": "code",
      "source": [
        "#Torres de hano1\n",
        "def Torres_Hano1(N, desde, hasta):\n",
        "    #N = nº de fichas \n",
        "    #desde = nº poste desde\n",
        "    #hasta = nº poste hasta\n",
        "\n",
        "    if N == 1:\n",
        "        print(\"Lleva la ficha desde \" + str(desde) + \" hasta \" + str(hasta))\n",
        "    \n",
        "    else:\n",
        "        Torres_Hano1(N-1, desde, 6-desde-hasta)\n",
        "        print(\"Leva la ficha desde \" + str(desde) + \" hasta \" + str(hasta))\n",
        "        Torres_Hano1(N-1, 6-desde-hasta, hasta)\n",
        "\n",
        "\n",
        "Torres_Hano1(7,1,3)\n",
        "\n",
        "#Si tengo la ficha en el 1 y la quiero llevar al 3, el pivote es 2 (6-1-3).\n",
        "#Si tengo la ficha en el 1 y la quiero llevar al 2, el pivote es 3 (6-1-2)."
      ],
      "metadata": {
        "colab": {
          "base_uri": "https://localhost:8080/"
        },
        "id": "FHeAxBSVt3QO",
        "outputId": "209518d0-9a0a-482d-82ef-84200b17bb7b"
      },
      "execution_count": null,
      "outputs": [
        {
          "output_type": "stream",
          "name": "stdout",
          "text": [
            "Lleva la ficha desde 1 hasta 3\n",
            "Leva la ficha desde 1 hasta 2\n",
            "Lleva la ficha desde 3 hasta 2\n",
            "Leva la ficha desde 1 hasta 3\n",
            "Lleva la ficha desde 2 hasta 1\n",
            "Leva la ficha desde 2 hasta 3\n",
            "Lleva la ficha desde 1 hasta 3\n",
            "Leva la ficha desde 1 hasta 2\n",
            "Lleva la ficha desde 3 hasta 2\n",
            "Leva la ficha desde 3 hasta 1\n",
            "Lleva la ficha desde 2 hasta 1\n",
            "Leva la ficha desde 3 hasta 2\n",
            "Lleva la ficha desde 1 hasta 3\n",
            "Leva la ficha desde 1 hasta 2\n",
            "Lleva la ficha desde 3 hasta 2\n",
            "Leva la ficha desde 1 hasta 3\n",
            "Lleva la ficha desde 2 hasta 1\n",
            "Leva la ficha desde 2 hasta 3\n",
            "Lleva la ficha desde 1 hasta 3\n",
            "Leva la ficha desde 2 hasta 1\n",
            "Lleva la ficha desde 3 hasta 2\n",
            "Leva la ficha desde 3 hasta 1\n",
            "Lleva la ficha desde 2 hasta 1\n",
            "Leva la ficha desde 2 hasta 3\n",
            "Lleva la ficha desde 1 hasta 3\n",
            "Leva la ficha desde 1 hasta 2\n",
            "Lleva la ficha desde 3 hasta 2\n",
            "Leva la ficha desde 1 hasta 3\n",
            "Lleva la ficha desde 2 hasta 1\n",
            "Leva la ficha desde 2 hasta 3\n",
            "Lleva la ficha desde 1 hasta 3\n",
            "Leva la ficha desde 1 hasta 2\n",
            "Lleva la ficha desde 3 hasta 2\n",
            "Leva la ficha desde 3 hasta 1\n",
            "Lleva la ficha desde 2 hasta 1\n",
            "Leva la ficha desde 3 hasta 2\n",
            "Lleva la ficha desde 1 hasta 3\n",
            "Leva la ficha desde 1 hasta 2\n",
            "Lleva la ficha desde 3 hasta 2\n",
            "Leva la ficha desde 3 hasta 1\n",
            "Lleva la ficha desde 2 hasta 1\n",
            "Leva la ficha desde 2 hasta 3\n",
            "Lleva la ficha desde 1 hasta 3\n",
            "Leva la ficha desde 2 hasta 1\n",
            "Lleva la ficha desde 3 hasta 2\n",
            "Leva la ficha desde 3 hasta 1\n",
            "Lleva la ficha desde 2 hasta 1\n",
            "Leva la ficha desde 3 hasta 2\n",
            "Lleva la ficha desde 1 hasta 3\n",
            "Leva la ficha desde 1 hasta 2\n",
            "Lleva la ficha desde 3 hasta 2\n",
            "Leva la ficha desde 1 hasta 3\n",
            "Lleva la ficha desde 2 hasta 1\n",
            "Leva la ficha desde 2 hasta 3\n",
            "Lleva la ficha desde 1 hasta 3\n",
            "Leva la ficha desde 1 hasta 2\n",
            "Lleva la ficha desde 3 hasta 2\n",
            "Leva la ficha desde 3 hasta 1\n",
            "Lleva la ficha desde 2 hasta 1\n",
            "Leva la ficha desde 3 hasta 2\n",
            "Lleva la ficha desde 1 hasta 3\n",
            "Leva la ficha desde 1 hasta 2\n",
            "Lleva la ficha desde 3 hasta 2\n",
            "Leva la ficha desde 1 hasta 3\n",
            "Lleva la ficha desde 2 hasta 1\n",
            "Leva la ficha desde 2 hasta 3\n",
            "Lleva la ficha desde 1 hasta 3\n",
            "Leva la ficha desde 2 hasta 1\n",
            "Lleva la ficha desde 3 hasta 2\n",
            "Leva la ficha desde 3 hasta 1\n",
            "Lleva la ficha desde 2 hasta 1\n",
            "Leva la ficha desde 2 hasta 3\n",
            "Lleva la ficha desde 1 hasta 3\n",
            "Leva la ficha desde 1 hasta 2\n",
            "Lleva la ficha desde 3 hasta 2\n",
            "Leva la ficha desde 1 hasta 3\n",
            "Lleva la ficha desde 2 hasta 1\n",
            "Leva la ficha desde 2 hasta 3\n",
            "Lleva la ficha desde 1 hasta 3\n",
            "Leva la ficha desde 2 hasta 1\n",
            "Lleva la ficha desde 3 hasta 2\n",
            "Leva la ficha desde 3 hasta 1\n",
            "Lleva la ficha desde 2 hasta 1\n",
            "Leva la ficha desde 3 hasta 2\n",
            "Lleva la ficha desde 1 hasta 3\n",
            "Leva la ficha desde 1 hasta 2\n",
            "Lleva la ficha desde 3 hasta 2\n",
            "Leva la ficha desde 3 hasta 1\n",
            "Lleva la ficha desde 2 hasta 1\n",
            "Leva la ficha desde 2 hasta 3\n",
            "Lleva la ficha desde 1 hasta 3\n",
            "Leva la ficha desde 2 hasta 1\n",
            "Lleva la ficha desde 3 hasta 2\n",
            "Leva la ficha desde 3 hasta 1\n",
            "Lleva la ficha desde 2 hasta 1\n",
            "Leva la ficha desde 2 hasta 3\n",
            "Lleva la ficha desde 1 hasta 3\n",
            "Leva la ficha desde 1 hasta 2\n",
            "Lleva la ficha desde 3 hasta 2\n",
            "Leva la ficha desde 1 hasta 3\n",
            "Lleva la ficha desde 2 hasta 1\n",
            "Leva la ficha desde 2 hasta 3\n",
            "Lleva la ficha desde 1 hasta 3\n",
            "Leva la ficha desde 1 hasta 2\n",
            "Lleva la ficha desde 3 hasta 2\n",
            "Leva la ficha desde 3 hasta 1\n",
            "Lleva la ficha desde 2 hasta 1\n",
            "Leva la ficha desde 3 hasta 2\n",
            "Lleva la ficha desde 1 hasta 3\n",
            "Leva la ficha desde 1 hasta 2\n",
            "Lleva la ficha desde 3 hasta 2\n",
            "Leva la ficha desde 1 hasta 3\n",
            "Lleva la ficha desde 2 hasta 1\n",
            "Leva la ficha desde 2 hasta 3\n",
            "Lleva la ficha desde 1 hasta 3\n",
            "Leva la ficha desde 2 hasta 1\n",
            "Lleva la ficha desde 3 hasta 2\n",
            "Leva la ficha desde 3 hasta 1\n",
            "Lleva la ficha desde 2 hasta 1\n",
            "Leva la ficha desde 2 hasta 3\n",
            "Lleva la ficha desde 1 hasta 3\n",
            "Leva la ficha desde 1 hasta 2\n",
            "Lleva la ficha desde 3 hasta 2\n",
            "Leva la ficha desde 1 hasta 3\n",
            "Lleva la ficha desde 2 hasta 1\n",
            "Leva la ficha desde 2 hasta 3\n",
            "Lleva la ficha desde 1 hasta 3\n"
          ]
        }
      ]
    },
    {
      "cell_type": "code",
      "source": [
        "def cambio_monedas(cantidad, sistema):\n",
        "\n",
        "    solucion = {}\n",
        "\n",
        "    for v in sistema:\n",
        "        monedas = cantidad // v\n",
        "        solucion[v] = monedas\n",
        "        cantidad -= monedas*v\n",
        "\n",
        "        if cantidad == 0:\n",
        "            return solucion"
      ],
      "metadata": {
        "id": "Eht2WuGF6z8V"
      },
      "execution_count": null,
      "outputs": []
    },
    {
      "cell_type": "code",
      "source": [
        "def cambio(cantidad, sistema):\n",
        "    solucion = [0]*len(sistema)\n",
        "    ValorAcumulado = 0\n",
        "\n",
        "    for i, valor in enumerate(sistema):\n",
        "        monedas = (cantidad-ValorAcumulado) // valor\n",
        "        solucion[1] = monedas\n",
        "        ValorAcumulado = ValorAcumulado + monedas*valor\n",
        "\n",
        "        if cantidad == ValorAcumulado:\n",
        "            return solucion\n",
        "\n",
        "    print('No es posible encontrar solucion')"
      ],
      "metadata": {
        "id": "m7a5aZIPaS6z"
      },
      "execution_count": null,
      "outputs": []
    },
    {
      "cell_type": "code",
      "source": [
        "cambio_monedas(123, [11,5,1])"
      ],
      "metadata": {
        "colab": {
          "base_uri": "https://localhost:8080/"
        },
        "id": "FIhqJAgB7KHp",
        "outputId": "b2bbd5d3-436a-4240-bb6b-028fc7440350"
      },
      "execution_count": null,
      "outputs": [
        {
          "output_type": "execute_result",
          "data": {
            "text/plain": [
              "{11: 11, 5: 0, 1: 2}"
            ]
          },
          "metadata": {},
          "execution_count": 19
        }
      ]
    },
    {
      "cell_type": "code",
      "source": [
        "def es_prometedora(solucion,etapa):\n",
        "    #Si la soucion tiene dos valores iguales no es valida --> dos reina en la misma fila\n",
        "    for i in range(etapa+1):\n",
        "        if solucion.count(solucion[i]) > 1:\n",
        "            return False\n",
        "        \n",
        "        #Verifica las diagonales\n",
        "        for j in range(i+1, etapa+1):\n",
        "            if abs(i-j) == abs(solucion[i]-solucion[j]):return False\n",
        "\n",
        "    return True\n",
        "\n",
        "#Traduce la solución al tablero\n",
        "def escribe_solucion(s):\n",
        "    n=len(s)\n",
        "\n",
        "    for x in range(n):\n",
        "        print(\"\")\n",
        "\n",
        "        for i in range(n):\n",
        "            if s[i] == x+1:\n",
        "                print(\" X \", end=\"\")\n",
        "            \n",
        "            else:\n",
        "                print(\" - \", end=\"\")\n",
        "\n",
        "#Proceso principal de N-Reinas\n",
        "def reinas(n, solucion = [], etapa=0):\n",
        "\n",
        "    if len(solucion) == 0:\n",
        "        solucion = [0 for i in range(n)]\n",
        "\n",
        "    for i in range(1, n+1):\n",
        "        solucion[etapa] = i\n",
        "\n",
        "        if es_prometedora(solucion, etapa):\n",
        "            if etapa == n-1:\n",
        "                print(solucion)\n",
        "                #escribe_solucion(solucion)\n",
        "            \n",
        "            else:\n",
        "                reinas(n, solucion, etapa+1)\n",
        "        \n",
        "        else:\n",
        "            None\n",
        "\n",
        "    solucion[etapa] = 0\n",
        "\n",
        "reinas(4,solucion=[], etapa=0)\n"
      ],
      "metadata": {
        "id": "u_Zu4oVAboWX",
        "colab": {
          "base_uri": "https://localhost:8080/"
        },
        "outputId": "e5eb5f29-e626-45c3-ab1c-5c2ebdaa2f6e"
      },
      "execution_count": null,
      "outputs": [
        {
          "output_type": "stream",
          "name": "stdout",
          "text": [
            "[2, 4, 1, 3]\n",
            "[3, 1, 4, 2]\n"
          ]
        }
      ]
    },
    {
      "cell_type": "code",
      "source": [
        "escribe_solucion([2,4,1,3])"
      ],
      "metadata": {
        "colab": {
          "base_uri": "https://localhost:8080/"
        },
        "id": "7WS-evEPk4_1",
        "outputId": "46747aba-a89d-4b38-f390-b2d509025dae"
      },
      "execution_count": null,
      "outputs": [
        {
          "output_type": "stream",
          "name": "stdout",
          "text": [
            "\n",
            " -  -  X  - \n",
            " X  -  -  - \n",
            " -  -  -  X \n",
            " -  X  -  - "
          ]
        }
      ]
    }
  ]
}